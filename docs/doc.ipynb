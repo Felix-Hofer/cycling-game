{
 "cells": [
  {
   "cell_type": "markdown",
   "id": "e4082d7a",
   "metadata": {},
   "source": [
    "# Tourist Bowling\n",
    "This game is an endless runner in a side-scroller-like format, in which the goal is to break the highscore. You get points by surviving as long as possible, and managing to avoid the different obstacles during a run."
   ]
  },
  {
   "cell_type": "markdown",
   "id": "ad5f613b",
   "metadata": {},
   "source": [
    "When starting the game (see installation process below) you are introduced to the homescreen.\n",
    "To start the game you have to press \"SPACE\", as indicated on the screen.\n",
    "\n",
    "<img src=\"../src/cycling_game/Resources/Images/home_screen.png\" width = \"500\">"
   ]
  },
  {
   "cell_type": "markdown",
   "id": "fc817cc9",
   "metadata": {},
   "source": [
    "## Gameplay\n",
    "The mechanics of this game are fairly simple, you press the UP-arrow to navigate the player upwards and the DOWN-arrow, to navigate downwards. Horizontal movement is automatic and will get faster, the further you progress in the game (i.e. the higher your score is). Obstacles will also spawn closer together, the further you get in the game and harder obstacles will spawn with higher frequency (i.e. the local)\n",
    "You lose the game (game over) when the player hits any of the obstacles. (see below)"
   ]
  },
  {
   "cell_type": "markdown",
   "id": "9fd9760e",
   "metadata": {
    "vscode": {
     "languageId": "plaintext"
    }
   },
   "source": [
    "## The Lanes  \n",
    "These are the three lanes (i.e. the two bike-lanes and the sidewalk) between which you can switch and on which obstacles will spawn.  \n",
    "Obstacles will never cross the lanes.\n",
    "\n",
    "<img src=\"../src/cycling_game/Resources/Images/back.png\">\n"
   ]
  },
  {
   "cell_type": "markdown",
   "id": "c7e0e367",
   "metadata": {
    "vscode": {
     "languageId": "plaintext"
    }
   },
   "source": [
    "## The Obstacles:\n",
    "\n",
    "### The Pothole  \n",
    "The pothole is the most common obstacle and will spawn on either one of the two bike-lanes\n",
    "\n",
    "<img src=\"../src/cycling_game/Resources/Images/obstacle_rm.png\" width = \"150\">\n",
    "\n",
    "\n",
    "### Construction Site\n",
    "\n",
    "The construction site is a stationary obstacle and can only spawn on the bikelane.  \n",
    "It is the only obstacle that covers two lanes.\n",
    "\n",
    "<img src=\"../src/cycling_game/Resources/Images/construction.png\" width = \"150\">\n",
    "\n",
    "### Tourist  \n",
    "The tourist only spawns on the sidewalk and the right side of the screen and moves towards the left side of the screen.  \n",
    "The tourist will die when being hit by the escooter\n",
    "\n",
    "<img src=\"../src/cycling_game/Resources/Images/tourist.png\" width = \"150\">\n",
    "\n",
    "### E-biker \n",
    "The E-biker is the hardest obstacle in the game and is most likely to spawn when a lane (i.e the two bikepaths) is free.  \n",
    "It will never spawn on the sidewalk.  \n",
    "It can either spawn on the left or right side of the screen and moves faster when spawning on the left side of the screen  \n",
    "The E-biker will also die when hitting an obstacle other than the player\n",
    "\n",
    "<img src=\"../src/cycling_game/Resources/Images/Local.png\" width = \"150\">\n",
    "\n",
    "### Escooter\n",
    "The escooter will spawn on the right side of the screen and will always move to the left side (towards the player) and will always spawn on the sidewalk  \n",
    "The E-scooter will die when colliding with the bikestand but not with the tourist\n",
    "\n",
    "<img src=\"../src/cycling_game/Resources/Images/escooter.png\" width = \"150\">\n",
    "\n",
    "### Bikestand  \n",
    "The bikestand is a stationary obstacle and only spawns on the sidewalk\n",
    "\n",
    "<img src=\"../src/cycling_game/Resources/Images/bikestand.png\" width = \"150\">"
   ]
  },
  {
   "cell_type": "markdown",
   "id": "d7da4a2d",
   "metadata": {},
   "source": [
    "## Game-Over  \n",
    "When the player hits any of the obstacles mentioned above, the game is over.  \n",
    "The Score will be displayed in the upper-right corner of the screen.  \n",
    "To restart the game, press SPACE again and the game will start immediately.\n",
    "\n",
    "<img src=\"../src/cycling_game/Resources/Images/game_over.png\" width = \"500\">"
   ]
  },
  {
   "cell_type": "markdown",
   "id": "3fed4c10",
   "metadata": {},
   "source": [
    "# Installing the Game\n",
    "\n",
    "The game-repository is available under:\n",
    "https://github.com/Felix-Hofer/cycling-game.git  \n",
    "\n",
    "## Step-By-Step Installation\n",
    "### Step 0\n",
    "Clone the repository in your terminal with:"
   ]
  },
  {
   "cell_type": "markdown",
   "id": "369e3634",
   "metadata": {
    "vscode": {
     "languageId": "shellscript"
    }
   },
   "source": [
    "\n",
    "```bash\n",
    "git clone https://github.com/Felix-Hofer/cycling-game.git your_folder_name\n",
    "\n",
    "```\n"
   ]
  },
  {
   "cell_type": "markdown",
   "id": "72d0182b",
   "metadata": {},
   "source": [
    "Alternatively, you can clone the repository using GitHub Desktop:  \n",
    "\n",
    "<img src=\"../src/cycling_game/Resources/Images/cloning.png\" width = \"500\">\n",
    "\n",
    "<img src=\"../src/cycling_game/Resources/Images/cloning2.png\" width = \"500\">"
   ]
  },
  {
   "cell_type": "markdown",
   "id": "dddfb3e1",
   "metadata": {},
   "source": [
    "### Step 1 (MacOS)\n",
    "Once cloned, you can navigate to the directory you have created (e.g. cycling_game)  \n",
    "Next, navigate to the dist folder and run the executable file called \"game_test\"  "
   ]
  },
  {
   "cell_type": "markdown",
   "id": "51b01d44",
   "metadata": {
    "vscode": {
     "languageId": "shellscript"
    }
   },
   "source": [
    "```bash\n",
    "cd path/to/your/game_directory/dist/select/your/OS\n",
    "open Tourist_Bowling.app #.app only on MacOS; Select the .exe file when using Windows\n",
    "```"
   ]
  },
  {
   "cell_type": "markdown",
   "id": "d407a348",
   "metadata": {},
   "source": [
    "Alternatively, you can navigate to the game directory using your graphical user interface. Next, select the directory for your operating system and double-click (execute) the .app file on MacOS or the .exe file on Windows machines.  \n",
    "Should your operating system (OS) complain about the trustwhorthiness of the file, right-click on the file and select \"run as admin\" (Windows) or \"Open\" (MacOS)\n",
    "Should you run into any issues, or want to report a bug, during the installation process you can reach the dev at felix_hofer@gmx.de (see README)"
   ]
  },
  {
   "cell_type": "markdown",
   "id": "08ac5a91",
   "metadata": {},
   "source": [
    "## Manual Installation (OS independent)\n",
    "In case you want to develop the game further, you can manually install the related package:  \n",
    "Please check the .toml or the README file for necessary dependencies!  \n",
    "It is recommended to create a new conda environment for this, to ensure all dependencies work with each other on the correct version.  \n",
    "Once you have cloned the repository, you can navigate to it and then install the package with:"
   ]
  },
  {
   "cell_type": "markdown",
   "id": "717cbf2c",
   "metadata": {},
   "source": [
    "```bash\n",
    "cd path/to/your/game_directory\n",
    "pip install -e .\n",
    "```"
   ]
  },
  {
   "cell_type": "markdown",
   "id": "6ba4c709",
   "metadata": {},
   "source": [
    "This should install the package locally on your system. Next, you can navigate to:\n",
    "```bash\n",
    "cd src/cycling_game\n",
    "```\n",
    "And then run the game with:\n",
    "```bash\n",
    "python run.py\n",
    "```"
   ]
  }
 ],
 "metadata": {
  "language_info": {
   "name": "python"
  }
 },
 "nbformat": 4,
 "nbformat_minor": 5
}
